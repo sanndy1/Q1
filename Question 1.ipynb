{
 "cells": [
  {
   "cell_type": "code",
   "execution_count": 1,
   "id": "4c8d04be",
   "metadata": {},
   "outputs": [
    {
     "name": "stdout",
     "output_type": "stream",
     "text": [
      "Is the computer powering on?\n",
      "Enter Yes or No: No\n",
      "Diagnosis: Check the power supply and cables\n"
     ]
    }
   ],
   "source": [
    "class DecisionTree:\n",
    "    def __init__(self, knowledge_base):\n",
    "        self.knowledge_base = knowledge_base\n",
    "\n",
    "    def ask_question(self, current_node):\n",
    "        if isinstance(current_node, dict):\n",
    "            for question, answers in current_node.items():\n",
    "                print(question)\n",
    "                answer = input(\"Enter Yes or No: \").capitalize()\n",
    "\n",
    "                if answer in answers:\n",
    "                    return self.ask_question(answers[answer])\n",
    "                else:\n",
    "                    print(\"Invalid input! Please enter Yes or No.\")\n",
    "                    return self.ask_question(current_node)\n",
    "        else:\n",
    "            print(f\"Diagnosis: {current_node}\")\n",
    "            return current_node\n",
    "\n",
    "\n",
    "if __name__ == \"__main__\":\n",
    "    K_Base = {\n",
    "        \"Is the computer powering on?\": {\n",
    "            \"Yes\": {\n",
    "                \"Is there a beeping sound?\": {\n",
    "                    \"Yes\": \"Check the RAM and CPU\",\n",
    "                    \"No\": {\n",
    "                        \"Is the display showing any output?\": {\n",
    "                            \"Yes\": \"Check the display connections and settings\",\n",
    "                            \"No\": \"Check the power supply and motherboard\"\n",
    "                        }\n",
    "                    }\n",
    "                }\n",
    "            },\n",
    "            \"No\": \"Check the power supply and cables\"\n",
    "        }\n",
    "    }\n",
    "\n",
    "    decision_tree = DecisionTree(K_Base)\n",
    "    decision_tree.ask_question(K_Base)\n"
   ]
  },
  {
   "cell_type": "code",
   "execution_count": null,
   "id": "bed7b5d0",
   "metadata": {},
   "outputs": [],
   "source": []
  },
  {
   "cell_type": "code",
   "execution_count": null,
   "id": "9464ee17",
   "metadata": {},
   "outputs": [],
   "source": []
  }
 ],
 "metadata": {
  "kernelspec": {
   "display_name": "Python 3 (ipykernel)",
   "language": "python",
   "name": "python3"
  },
  "language_info": {
   "codemirror_mode": {
    "name": "ipython",
    "version": 3
   },
   "file_extension": ".py",
   "mimetype": "text/x-python",
   "name": "python",
   "nbconvert_exporter": "python",
   "pygments_lexer": "ipython3",
   "version": "3.9.7"
  }
 },
 "nbformat": 4,
 "nbformat_minor": 5
}
