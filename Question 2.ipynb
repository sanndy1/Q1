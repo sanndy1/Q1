{
 "cells": [
  {
   "cell_type": "code",
   "execution_count": 1,
   "id": "9bdb9490",
   "metadata": {},
   "outputs": [
    {
     "name": "stdout",
     "output_type": "stream",
     "text": [
      "Enter the vehicle number plate: MH 12 AB 1234\n",
      "MH 12 AB 1234 is a valid vehicle number plate.\n"
     ]
    }
   ],
   "source": [
    "import re\n",
    "\n",
    "def is_valid_number_plate(number_plate):\n",
    "    # Define the pattern based on \"XX NN YY NNNN\" format\n",
    "    pattern = r\"^[A-Z]{2}\\s\\d{2}\\s[A-Z]{2}\\s\\d{4}$\"\n",
    "    \n",
    "    # Check if the number plate matches the pattern\n",
    "    if re.match(pattern, number_plate):\n",
    "        return True\n",
    "    else:\n",
    "        return False\n",
    "\n",
    "# Test cases\n",
    "if __name__ == \"__main__\":\n",
    "    number_plate = input(\"Enter the vehicle number plate: \").strip()\n",
    "\n",
    "    if is_valid_number_plate(number_plate):\n",
    "        print(f\"{number_plate} is a valid vehicle number plate.\")\n",
    "    else:\n",
    "        print(f\"{number_plate} is not a valid vehicle number plate.\")"
   ]
  },
  {
   "cell_type": "code",
   "execution_count": null,
   "id": "00a66225",
   "metadata": {},
   "outputs": [],
   "source": []
  }
 ],
 "metadata": {
  "kernelspec": {
   "display_name": "Python 3 (ipykernel)",
   "language": "python",
   "name": "python3"
  },
  "language_info": {
   "codemirror_mode": {
    "name": "ipython",
    "version": 3
   },
   "file_extension": ".py",
   "mimetype": "text/x-python",
   "name": "python",
   "nbconvert_exporter": "python",
   "pygments_lexer": "ipython3",
   "version": "3.9.7"
  }
 },
 "nbformat": 4,
 "nbformat_minor": 5
}
